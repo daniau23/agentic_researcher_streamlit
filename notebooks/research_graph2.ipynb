{
 "cells": [
  {
   "cell_type": "code",
   "execution_count": null,
   "metadata": {},
   "outputs": [],
   "source": [
    "from typing import Annotated, List, Literal, Optional\n",
    "from pydantic import BaseModel, Field\n",
    "from operator import add\n",
    "from langgraph.graph.message import add_messages\n",
    "from langgraph.graph import StateGraph, END\n",
    "from langgraph.graph.state import CompiledStateGraph\n",
    "from IPython.display import Image, display\n",
    "# HuggingFace\n",
    "from langchain_huggingface.embeddings import HuggingFaceEndpointEmbeddings\n",
    "from langchain_huggingface import ChatHuggingFace, HuggingFaceEndpoint\n",
    "# Prompts\n",
    "from langchain.prompts import PromptTemplate\n",
    "from langchain_core.messages import BaseMessage\n",
    "from langchain_core.tools import tool\n",
    "# Others\n",
    "import os\n",
    "from dotenv import load_dotenv\n",
    "# # LangSmith\n",
    "# import uuid\n",
    "# from langchain_core.tracers.context import collect_runs\n",
    "# from langchain_core.tracers.langchain import wait_for_all_tracers\n",
    "# from langsmith import Client\n",
    "# from langchain.callbacks.tracers import LangChainTracer"
   ]
  },
  {
   "cell_type": "code",
   "execution_count": 2,
   "id": "ab89c1bc",
   "metadata": {},
   "outputs": [],
   "source": [
    "# Understanding Pydantic and Typing\n",
    "# https://typing.python.org/en/latest/spec/annotations.html\n",
    "# https://docs.pydantic.dev/latest/\n",
    "# https://medium.com/@moraneus/exploring-the-power-of-pythons-typing-library-ff32cec44981\n",
    "# https://coderivers.org/blog/typingannotated-python/\n",
    "# https://chatgpt.com/share/68644926-ccfc-800a-b668-4752077e3a29"
   ]
  },
  {
   "cell_type": "code",
   "execution_count": 3,
   "id": "d137f5ad",
   "metadata": {},
   "outputs": [
    {
     "data": {
      "text/plain": [
       "True"
      ]
     },
     "execution_count": 3,
     "metadata": {},
     "output_type": "execute_result"
    }
   ],
   "source": [
    "# Provide the filename as a string\n",
    "load_dotenv('../.env')"
   ]
  },
  {
   "cell_type": "markdown",
   "id": "68a6a30e",
   "metadata": {},
   "source": [
    "## **Define State**"
   ]
  },
  {
   "cell_type": "code",
   "execution_count": 4,
   "id": "bfe2ebdb",
   "metadata": {},
   "outputs": [],
   "source": [
    "class ResearchArticle(BaseModel):\n",
    "    text: str\n",
    "    title:str\n",
    "    category: str\n",
    "\n",
    "class ResearchArticleState(BaseModel):\n",
    "    \"\"\"\n",
    "    Represents the evolving state of the article bot.\n",
    "    \"\"\"\n",
    "    article: Annotated[List[ResearchArticle], add] = []\n",
    "    articles_choice: Literal[\"n\", \"c\", \"q\"] = \"n\"\n",
    "    category: str = \"nlp\"\n",
    "    title:str = \"Solving the myth and facts of child development with nlp\"\n",
    "    quit: bool = False"
   ]
  },
  {
   "cell_type": "code",
   "execution_count": 5,
   "id": "ae02f563",
   "metadata": {},
   "outputs": [],
   "source": [
    "class AgenticResearchArticleState(ResearchArticleState):\n",
    "    latest_article: str = \"\"\n",
    "    approved: bool = False\n",
    "    retry_count:int = 0"
   ]
  },
  {
   "cell_type": "markdown",
   "id": "8dffeb22",
   "metadata": {},
   "source": [
    "## **Utilities**"
   ]
  },
  {
   "cell_type": "code",
   "execution_count": 6,
   "id": "1cc7442a",
   "metadata": {},
   "outputs": [],
   "source": [
    "def get_user_input(prompt:str)-> str:\n",
    "    prompt_input = input(prompt)\n",
    "    prompt_input = \"\".join(prompt_input).strip().lower()\n",
    "    return prompt_input\n",
    "\n",
    "def print_article(article:ResearchArticle):\n",
    "    \"\"\"\n",
    "    Print article with nice formatting\n",
    "    \"\"\"\n",
    "    print(f\"\\nCATEGORY: {article.category.upper()}\\n\")\n",
    "    print(f\"\\n{article.title}\\n\")\n",
    "    print(f\"\\n{article.text}\\n\")\n",
    "    print(\"=\"* 60)\n",
    "\n",
    "def print_menu_header(category:str, total_articles:int):\n",
    "    \"\"\"\n",
    "    Print a compact menu header\n",
    "    \"\"\"\n",
    "    print(f\"🎭 Menu | Category: {category.upper()} | Articles: {total_articles}\")\n",
    "    print(\"-\" * 50)"
   ]
  },
  {
   "cell_type": "markdown",
   "id": "699940c6",
   "metadata": {},
   "source": [
    "## **LLMS**"
   ]
  },
  {
   "cell_type": "code",
   "execution_count": 7,
   "id": "3edd2c97",
   "metadata": {},
   "outputs": [
    {
     "name": "stderr",
     "output_type": "stream",
     "text": [
      "WARNING! max_length is not default parameter.\n",
      "                    max_length was transferred to model_kwargs.\n",
      "                    Please make sure that max_length is what you intended.\n"
     ]
    }
   ],
   "source": [
    "# Provide the filename as a string\n",
    "load_dotenv('.env')\n",
    "\n",
    "\n",
    "# loadding Huggingface token\n",
    "HUGGINGFACEHUB_API_TOKEN = os.getenv(\"HUGGINGFACEHUB_API_TOKEN\")\n",
    "\n",
    "# models \n",
    "repo_id_writer = \"mistralai/Mistral-7B-Instruct-v0.3\"\n",
    "repo_id_critic = \"mistralai/Mistral-7B-Instruct-v0.3\"\n",
    "# repo_id_critic = \"mistralai/Mistral-Small-24B-Instruct-2501\"\n",
    "\n",
    "\n",
    "# model parameters\n",
    "model_kwargs_writer = {\n",
    "    \"max_new_tokens\": 200, # Maximum tokens to generate\n",
    "    \"max_length\": 100, # Maximum length of input + output\n",
    "    \"temperature\": 0.8, # Controls randomness of output\n",
    "    \"timeout\": 6000,\n",
    "    # \"task\":'conversational'\n",
    "}\n",
    "\n",
    "# LLM set up\n",
    "llm_writer = HuggingFaceEndpoint(\n",
    "    repo_id=repo_id_writer,\n",
    "    huggingfacehub_api_token = HUGGINGFACEHUB_API_TOKEN,\n",
    "    **model_kwargs_writer\n",
    "    # you specify the task or not\n",
    "    # You can also specify the task in the model_kwargs or within here\n",
    "    # task = 'conversational',\n",
    ")\n",
    "# model parameters\n",
    "model_kwargs_critic = {\n",
    "    \"max_new_tokens\": 5, # Maximum tokens to generate\n",
    "    # \"max_length\": 4000, # Maximum length of input + output\n",
    "    \"temperature\": 0.1, # Controls randomness of output\n",
    "    \"timeout\": 6000,\n",
    "    # \"task\":'conversational'\n",
    "}\n",
    "\n",
    "# LLM set up\n",
    "llm_critic = HuggingFaceEndpoint(\n",
    "    repo_id=repo_id_critic,\n",
    "    huggingfacehub_api_token = HUGGINGFACEHUB_API_TOKEN,\n",
    "    **model_kwargs_critic\n",
    "    # you specify the task or not\n",
    "    # You can also specify the task in the model_kwargs or within here\n",
    "    # task = 'conversational',\n",
    ")\n",
    "\n",
    "chat_model_writer = ChatHuggingFace(llm=llm_writer)\n",
    "chat_model_critic = ChatHuggingFace(llm=llm_critic)"
   ]
  },
  {
   "cell_type": "markdown",
   "id": "863283ed",
   "metadata": {},
   "source": [
    "## **Prompts**"
   ]
  },
  {
   "cell_type": "code",
   "execution_count": 8,
   "id": "cc2ebd9d",
   "metadata": {},
   "outputs": [],
   "source": [
    "# Writer prompt\n",
    "WRITER_PROMPT = \"\"\"\n",
    "You are the best captivating research abstract generator \n",
    "with 20 years of experience \n",
    "who can write the most interesting research abstracts.\\n\n",
    "When given a category and title, be as detailed and concise as possible.\\n\\n\\n\n",
    "Here are examples\n",
    "======================================================\n",
    "category: nlp\n",
    "Title:The Next Frontier in Natural Language Processing\n",
    "\n",
    "Abstract\n",
    "Natural Language Processing (NLP) has evolved from rule-based text manipulation to enabling human-like interactions across billions of devices. While transformers like BERT and GPT revolutionized text understanding, the next frontier lies in grounding language in real-world context, emotion, and dynamic memory. This article explores the state-of-the-art in NLP, its challenges, and the emerging paradigms shaping its future—from multimodal intelligence to reasoning-aware models.\n",
    "======================================================\n",
    "\\n\\n\\n\n",
    "Category: {category}\n",
    "Title: {title}\n",
    "Abstract: \n",
    "\"\"\"\n",
    "# Critic prompt\n",
    "CRITIC_PROMPT = \"\"\"\n",
    "Daniel the greatest critic and editor of research articles.\\n\n",
    "You evaluate all research article blog post to see if they are structured or not.\n",
    "You reponse only by saying YES or NO.\\n\\n\\n\n",
    "======================================================\n",
    "Here are examples\n",
    "category: nlp\n",
    "Title: Eyes of the Machine: The Expanding Horizon of Computer Vision\n",
    "Abstract:\n",
    "Computer Vision, once limited to edge detection and barcode scanning, now powers autonomous vehicles, medical diagnosis, and generative art. From convolutional neural networks (CNNs) to vision-language transformers and neuromorphic sensors, the field is undergoing a seismic transformation. This article explores the evolving landscape of CV, current breakthroughs, limitations, and the emerging frontier of visual intelligence.\n",
    "Response: YES\n",
    "======================================================\n",
    "\\n\\n\\n\n",
    "Abstract: {abstract}\n",
    "RESPONSE: \n",
    "\"\"\""
   ]
  },
  {
   "cell_type": "code",
   "execution_count": 9,
   "id": "8061d5db",
   "metadata": {},
   "outputs": [],
   "source": [
    "writer_input_variable = ['category','title']\n",
    "writer_prompt = PromptTemplate(template=WRITER_PROMPT,\n",
    "                              input_variables=writer_input_variable)\n",
    "\n",
    "\n",
    "critic_prompt_variable = ['abstract']\n",
    "critic_prompt = PromptTemplate(\n",
    "    template=CRITIC_PROMPT,input_variables=critic_prompt_variable\n",
    ")"
   ]
  },
  {
   "cell_type": "markdown",
   "id": "fe73f7c2",
   "metadata": {},
   "source": [
    "## **Define Nodes**"
   ]
  },
  {
   "cell_type": "code",
   "execution_count": null,
   "id": "4f2c54b0",
   "metadata": {},
   "outputs": [],
   "source": [
    "def make_writer_node(llm):\n",
    "    def writer_node(state: AgenticResearchArticleState) -> dict:\n",
    "        chain = writer_prompt | llm\n",
    "        response = chain.invoke({\"category\": state.category, \"title\": state.title})\n",
    "        content = response.content.strip().lower()\n",
    "        return {\"latest_article\": content}\n",
    "    return writer_node"
   ]
  },
  {
   "cell_type": "code",
   "execution_count": null,
   "id": "7d09a484",
   "metadata": {},
   "outputs": [],
   "source": [
    "# critic-node\n",
    "def make_critic_node(llm):\n",
    "    def critic_node(state:AgenticResearchArticleState)-> dict:\n",
    "        critic = critic_prompt | llm\n",
    "        decision = critic.invoke({\"abstract\": state.latest_article})\n",
    "        decision = decision.content.strip().lower()\n",
    "        approved = \"yes\" in decision\n",
    "        return {\n",
    "            \"approved\":approved,\n",
    "            \"retry_count\":state.retry_count + 1\n",
    "        }\n",
    "    return critic_node"
   ]
  },
  {
   "cell_type": "code",
   "execution_count": 12,
   "id": "70267684",
   "metadata": {},
   "outputs": [],
   "source": [
    "def show_final_article(state:AgenticResearchArticleState) -> dict:\n",
    "    article = ResearchArticle(\n",
    "        text=state.latest_article,\n",
    "        category=state.category,\n",
    "        title=state.title\n",
    "    )\n",
    "    print_article(article)\n",
    "    return {\n",
    "        \"article\":[article],\n",
    "        \"retry_count\": 0,\n",
    "        'approved': False\n",
    "    }"
   ]
  },
  {
   "cell_type": "code",
   "execution_count": 13,
   "id": "91ec73b8",
   "metadata": {},
   "outputs": [],
   "source": [
    "def writer_critic_router(state: AgenticResearchArticleState) -> str:\n",
    "    if state.approved or state.retry_count >= 20:\n",
    "        return \"show_final_article\"\n",
    "    return \"writer\""
   ]
  },
  {
   "cell_type": "code",
   "execution_count": 14,
   "id": "83f15417",
   "metadata": {},
   "outputs": [],
   "source": [
    "def show_menu(state: ResearchArticleState) -> dict:\n",
    "    print_menu_header(state.category, len(state.article))\n",
    "    print(\"Pick an option\")\n",
    "    user_input = get_user_input(\n",
    "        \"[n] 🎭 Next Article \\n[c] 📂 Change Category\\n[q] 🚪 Quit\\nUser Input: \"\n",
    "    )\n",
    "\n",
    "    while user_input not in [\"n\", \"c\", \"q\"]:\n",
    "        print(\"❌ Invalid input. Please try again.\")\n",
    "        user_input = get_user_input(\n",
    "            \"[n] 🎭 Next Article  [c] 📂 Change Category  [q] 🚪 Quit\\n    User Input: \"\n",
    "        )\n",
    "\n",
    "    result = {\"articles_choice\": user_input}\n",
    "\n",
    "    # Always prompt for title when 'n' is chosen\n",
    "    if user_input == \"n\":\n",
    "        title = input(\"\\nEnter a title for the new article:\\n\\nTITLE: \")\n",
    "        result[\"title\"] = title.strip()\n",
    "\n",
    "    return result\n",
    "\n",
    "\n",
    "\n",
    "# # Original\n",
    "# def show_menu(state:ResearchArticleState) -> dict:\n",
    "#     print_menu_header(state.category,len(state.article))\n",
    "#     print(\"Pick an option\")\n",
    "#     user_input = get_user_input(\n",
    "#         \"[n] 🎭 Next Article \\n[c] 📂 Change Category\\n[q] 🚪 Quit\\nUser Input: \"\n",
    "#     )\n",
    "\n",
    "#     while user_input not in [\"n\", \"c\", \"q\"]:\n",
    "#         print(\"❌ Invalid input. Please try again.\")\n",
    "#         user_input = get_user_input(\n",
    "#             \"[n] 🎭 Next Article  [c] 📂 Change Category  [q] 🚪 Quit\\n    User Input: \"\n",
    "#         )\n",
    "#     return {\"articles_choice\": user_input}"
   ]
  },
  {
   "cell_type": "code",
   "execution_count": 15,
   "id": "c9c4798c",
   "metadata": {},
   "outputs": [],
   "source": [
    "def update_category(state: AgenticResearchArticleState) -> dict:\n",
    "    categories = [\"nlp\", \n",
    "                  \"computer_vision\", \n",
    "                  \"gen_ai\"]\n",
    "    print(\"CATEGORY SELECTION\")\n",
    "    print(\"=\" * 60)\n",
    "\n",
    "    for i, cat in enumerate(categories):\n",
    "        print(f\"    {i}. {cat.upper()}\")\n",
    "\n",
    "    print(\"=\" * 60)\n",
    "\n",
    "    try:\n",
    "        selection = int(input(\"    Enter category number: \").strip())\n",
    "        # title = input(\"What is your title? \")\n",
    "        if 0 <= selection < len(categories):\n",
    "            selected_category = categories[selection]\n",
    "            print(f\"    ✅ Category changed to: {selected_category.upper()}\")\n",
    "            return {\n",
    "                \"category\": selected_category,\n",
    "                # \"title\":title\n",
    "                }\n",
    "        else:\n",
    "            print(\"    ❌ Invalid choice. Keeping current category.\")\n",
    "            return {}\n",
    "    except ValueError:\n",
    "        print(\"    ❌ Please enter a valid number. Keeping current category.\")\n",
    "        return {}"
   ]
  },
  {
   "cell_type": "code",
   "execution_count": 16,
   "id": "d0b4ff1a",
   "metadata": {},
   "outputs": [],
   "source": [
    "def exit_bot(state:ResearchArticleState) -> dict:\n",
    "    print(\"\\n\" + \"🚪\" + \"=\" * 58 + \"🚪\")\n",
    "    print(\"    GOODBYE!\")\n",
    "    print(\"=\" * 60)\n",
    "    return {\"quit\": True}"
   ]
  },
  {
   "cell_type": "code",
   "execution_count": 17,
   "id": "3c2d7b22",
   "metadata": {},
   "outputs": [],
   "source": [
    "def route_choice(state:ResearchArticleState)-> str:\n",
    "    \"\"\"\n",
    "    Router function to determine the next node based on user choice.\n",
    "    Keys must match the target node names.\n",
    "    \"\"\"\n",
    "    if state.articles_choice == \"n\":\n",
    "        return \"fetch_article\"\n",
    "    elif state.articles_choice == \"c\":\n",
    "        return \"update_category\"\n",
    "    elif state.articles_choice == \"q\":\n",
    "        return \"exit_bot\"\n",
    "    else:\n",
    "        return \"exit_bot\""
   ]
  },
  {
   "cell_type": "markdown",
   "id": "0a1998d8",
   "metadata": {},
   "source": [
    "## **Building the Graph**"
   ]
  },
  {
   "cell_type": "code",
   "execution_count": 18,
   "id": "74033c0f",
   "metadata": {},
   "outputs": [],
   "source": [
    "def build_joke_graph(writer_llm, critic_llm) -> CompiledStateGraph:\n",
    "    workflow = StateGraph(AgenticResearchArticleState)\n",
    "\n",
    "    # Register nodes\n",
    "    workflow.add_node(\"show_menu\",show_menu)\n",
    "    workflow.add_node(\"update_category\",update_category)\n",
    "    workflow.add_node(\"exit_bot\",exit_bot)\n",
    "    workflow.add_node(\"writer\", make_writer_node(writer_llm))\n",
    "    workflow.add_node(\"critic\", make_critic_node(critic_llm))\n",
    "    workflow.add_node(\"show_final_article\",show_final_article)\n",
    "\n",
    "    # Set entry point\n",
    "    workflow.set_entry_point(\"show_menu\")\n",
    "    \n",
    "    # Routing Logic-1\n",
    "    workflow.add_conditional_edges(\n",
    "        \"show_menu\",\n",
    "        route_choice,\n",
    "        {\n",
    "            \"fetch_article\": \"writer\",\n",
    "            \"update_category\": \"update_category\",\n",
    "            \"exit_bot\": \"exit_bot\",  \n",
    "        },\n",
    "    )\n",
    "\n",
    "    # Define transitions\n",
    "    workflow.add_edge(\"update_category\", \"show_menu\")\n",
    "    workflow.add_edge(\"writer\", \"critic\")\n",
    "    \n",
    "    \n",
    "    # Routing Logic-2\n",
    "    workflow.add_conditional_edges(\n",
    "        'critic',\n",
    "        writer_critic_router,\n",
    "        {\n",
    "            \"writer\": 'writer',\n",
    "            \"show_final_article\": \"show_final_article\",\n",
    "        }\n",
    "    )\n",
    "    workflow.add_edge(\"show_final_article\", \"show_menu\")\n",
    "    workflow.add_edge(\"exit_bot\", END)\n",
    "    \n",
    "    return workflow.compile()"
   ]
  },
  {
   "cell_type": "markdown",
   "id": "51a84f6c",
   "metadata": {},
   "source": [
    "## **Graph Visualisation**"
   ]
  },
  {
   "cell_type": "code",
   "execution_count": 19,
   "id": "6446bea3",
   "metadata": {},
   "outputs": [],
   "source": [
    "def graph_visualiser(graph):\n",
    "    try:\n",
    "        display(Image(graph.get_graph().draw_mermaid_png()))\n",
    "    except Exception as e:\n",
    "        print(e)"
   ]
  },
  {
   "cell_type": "code",
   "execution_count": 20,
   "id": "d4f1917b",
   "metadata": {},
   "outputs": [
    {
     "data": {
      "image/png": "[encoded data removed]",
      "text/plain": [
       "<IPython.core.display.Image object>"
      ]
     },
     "metadata": {},
     "output_type": "display_data"
    }
   ],
   "source": [
    "graph_visualiser(build_joke_graph(chat_model_writer,chat_model_critic))"
   ]
  },
  {
   "cell_type": "markdown",
   "id": "754b0e32",
   "metadata": {},
   "source": [
    "## **Main Code**"
   ]
  },
  {
   "cell_type": "code",
   "execution_count": 21,
   "id": "8d69b7e3",
   "metadata": {},
   "outputs": [],
   "source": [
    "def main():\n",
    "    print(\"\\n🎭 Starting article bot with writer–critic LLM loop...\")\n",
    "    graph = build_joke_graph(chat_model_writer,chat_model_critic)\n",
    "    final_state = graph.invoke(\n",
    "        AgenticResearchArticleState(category=\"nlp\",\n",
    "                                    title=\"Solving the myth and facts of child development with nlp\"), \n",
    "        config={\"recursion_limit\": 1000}\n",
    "    )\n",
    "    print(\"\\n✅ Done. Final Article Count:\", len(final_state[\"article\"]))"
   ]
  },
  {
   "cell_type": "code",
   "execution_count": 22,
   "id": "eca50538",
   "metadata": {},
   "outputs": [
    {
     "name": "stdout",
     "output_type": "stream",
     "text": [
      "\n",
      "🎭 Starting article bot with writer–critic LLM loop...\n",
      "🎭 Menu | Category: NLP | Articles: 0\n",
      "--------------------------------------------------\n",
      "Pick an option\n",
      "\n",
      "CATEGORY: NLP\n",
      "\n",
      "\n",
      "\"Solving the myth and facts of child development with nlp\"\n",
      "\n",
      "\n",
      "this study delves into the intersection of natural language processing (nlp) and child development, a promising yet under-explored field. by leveraging advanced nlp techniques, we aim to uncover hidden patterns and insights in vast amounts of data related to child development, debunking common myths and confirming established facts. our research focuses on sentiment analysis of parental interactions, identifying developmental milestones from speech patterns, and understanding the impact of environmental factors on language development. the findings of this study could potentially revolutionize our understanding of child development and pave the way for personalized educational interventions.\n",
      "\n",
      "============================================================\n",
      "🎭 Menu | Category: NLP | Articles: 1\n",
      "--------------------------------------------------\n",
      "Pick an option\n",
      "\n",
      "🚪==========================================================🚪\n",
      "    GOODBYE!\n",
      "============================================================\n",
      "\n",
      "✅ Done. Final Article Count: 1\n"
     ]
    }
   ],
   "source": [
    "main()"
   ]
  }
 ],
 "metadata": {
  "kernelspec": {
   "display_name": "Python 3",
   "language": "python",
   "name": "python3"
  },
  "language_info": {
   "codemirror_mode": {
    "name": "ipython",
    "version": 3
   },
   "file_extension": ".py",
   "mimetype": "text/x-python",
   "name": "python",
   "nbconvert_exporter": "python",
   "pygments_lexer": "ipython3",
   "version": "3.11.9"
  }
 },
 "nbformat": 4,
 "nbformat_minor": 5
}
